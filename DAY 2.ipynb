{
 "cells": [
  {
   "cell_type": "markdown",
   "metadata": {},
   "source": [
    "# (2x+5/x^2+5x+6)\n"
   ]
  },
  {
   "cell_type": "code",
   "execution_count": 1,
   "metadata": {},
   "outputs": [
    {
     "name": "stdout",
     "output_type": "stream",
     "text": [
      "Enter X value :5\n",
      "Answer is  0.26785714285714285\n"
     ]
    }
   ],
   "source": [
    "x=float(input(\"Enter X value :\"))\n",
    "\n",
    "y=(2*x+5)/(x**2+5*x+6)\n",
    "print( \"Answer is \",y)\n"
   ]
  },
  {
   "cell_type": "markdown",
   "metadata": {},
   "source": [
    "# (x^2+5x+6/2x+5)"
   ]
  },
  {
   "cell_type": "code",
   "execution_count": 2,
   "metadata": {},
   "outputs": [
    {
     "name": "stdout",
     "output_type": "stream",
     "text": [
      "Enter X value :5\n",
      "Answer is  3.7333333333333334\n"
     ]
    }
   ],
   "source": [
    "x=float(input(\"Enter X value :\"))\n",
    "y=(x ** 2+5*x+ 6) / (2*x + 5)\n",
    "print( \"Answer is \",y)\n"
   ]
  },
  {
   "cell_type": "markdown",
   "metadata": {},
   "source": [
    "# (2x-3)(x-9)"
   ]
  },
  {
   "cell_type": "code",
   "execution_count": 3,
   "metadata": {},
   "outputs": [
    {
     "name": "stdout",
     "output_type": "stream",
     "text": [
      "Enter X value :5\n",
      "Answer is  98\n"
     ]
    }
   ],
   "source": [
    "x=int(input(\"Enter X value :\"))\n",
    "y=(2*x-3)*(x+9)\n",
    "print( \"Answer is \",y)\n"
   ]
  },
  {
   "cell_type": "markdown",
   "metadata": {},
   "source": [
    "# Create a username and password login file using nested while loop"
   ]
  },
  {
   "cell_type": "code",
   "execution_count": 1,
   "metadata": {},
   "outputs": [
    {
     "name": "stdout",
     "output_type": "stream",
     "text": [
      "Enter Password : Sivaganesh\n",
      "Login Sucessfull\n"
     ]
    }
   ],
   "source": [
    "password_value=\"Sivaganesh\"\n",
    "input_password=\"\"\n",
    "password_attempt=1\n",
    "is_password_lock= False\n",
    "while input_password!= password_value and not (is_password_lock):\n",
    "    if is_password_lock <= 3:\n",
    "        input_password=input(\"Enter Password : \")\n",
    "    else : \n",
    "        is_password_lock=True\n",
    "    password_attempt=password_attempt +1\n",
    "\n",
    "if is_password_lock:\n",
    "    (\"Account is lock,attempt is over\")\n",
    "\n",
    "else :        \n",
    "     print(\"Login Sucessfull\")"
   ]
  },
  {
   "cell_type": "code",
   "execution_count": null,
   "metadata": {},
   "outputs": [],
   "source": []
  }
 ],
 "metadata": {
  "kernelspec": {
   "display_name": "Python 3",
   "language": "python",
   "name": "python3"
  },
  "language_info": {
   "codemirror_mode": {
    "name": "ipython",
    "version": 3
   },
   "file_extension": ".py",
   "mimetype": "text/x-python",
   "name": "python",
   "nbconvert_exporter": "python",
   "pygments_lexer": "ipython3",
   "version": "3.8.5"
  }
 },
 "nbformat": 4,
 "nbformat_minor": 4
}
